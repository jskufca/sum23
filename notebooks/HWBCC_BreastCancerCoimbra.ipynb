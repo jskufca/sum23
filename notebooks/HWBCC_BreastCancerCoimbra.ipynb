{
 "cells": [
  {
   "cell_type": "code",
   "execution_count": null,
   "metadata": {},
   "outputs": [],
   "source": [
    "\n",
    "\"\"\"\n",
    "For your homework, save a copy of this file under the filename\n",
    "\n",
    "    FirstNameLastNameBCCHW.py\n",
    "    \n",
    "    \n",
    "Edit as necessary to complet the requested work.\n",
    "\n",
    "\"\"\"\n",
    ""
   ]
  },
  {
   "cell_type": "code",
   "execution_count": null,
   "metadata": {},
   "outputs": [],
   "source": [
    "\n",
    "# Not sure which of these will get used\n",
    "\n",
    "import pandas as pd\n",
    "import numpy as np\n",
    "# use seaborn plotting defaults\n",
    "import matplotlib.pyplot as plt\n",
    "import seaborn as sns; sns.set()\n",
    "\n",
    ""
   ]
  },
  {
   "cell_type": "code",
   "execution_count": null,
   "metadata": {},
   "outputs": [],
   "source": [
    "\n",
    "# Download the data file from the UCI ML repository.  \n",
    "# Place the file on you computer in a location that this command can read the file\n",
    "\n",
    "bcc = pd.read_csv(\"dataR2.csv\")\n",
    ""
   ]
  },
  {
   "cell_type": "code",
   "execution_count": null,
   "metadata": {},
   "outputs": [],
   "source": [
    "\n",
    "# We separate the date into the predictor variables and the response\n",
    "X=bcc.loc[:,'Age':'MCP.1']\n",
    "y=bcc.Classification\n",
    "\n",
    "\n",
    ""
   ]
  },
  {
   "cell_type": "code",
   "execution_count": null,
   "metadata": {},
   "outputs": [],
   "source": [
    "\n",
    "# First, we will build the default svm using all the data and compute the accuracy\n",
    "\n",
    "from sklearn import svm\n",
    "\n",
    "mdl1=svm.SVC(gamma='auto')\n",
    "mdl1.fit(X,y)\n",
    "\n",
    "# prediction\n",
    "y_pred=mdl1.predict(X)\n",
    "\n",
    "\n",
    "from sklearn import metrics\n",
    "print(\"Accuracy:\",metrics.accuracy_score(y, y_pred))\n",
    ""
   ]
  },
  {
   "cell_type": "code",
   "execution_count": null,
   "metadata": {},
   "outputs": [],
   "source": [
    "\n",
    "# The indicated accuracy is 100%, which would be great, but ... it is suspect.  \n",
    "# What is the problem with what we have done?\n",
    "\n",
    "# Your answer here\n",
    ""
   ]
  },
  {
   "cell_type": "code",
   "execution_count": null,
   "metadata": {},
   "outputs": [],
   "source": [
    "\n",
    "from sklearn.model_selection import train_test_split\n",
    "\n",
    "# specify random_state to allow reproducibility\n",
    "X_train,X_test,y_train,y_test=train_test_split(\n",
    "        X,y,test_size=0.25,random_state=23) \n",
    ""
   ]
  },
  {
   "cell_type": "code",
   "execution_count": null,
   "metadata": {},
   "outputs": [],
   "source": [
    "\n",
    "# Explain what the previous command accomplishes?  \n",
    "\n",
    "# Can you explain why I chose to specify the \"random_state\"  ?\n",
    "\n",
    "# Your answer here\n",
    ""
   ]
  },
  {
   "cell_type": "code",
   "execution_count": null,
   "metadata": {},
   "outputs": [],
   "source": [
    "\n",
    "# ACTION REQUIRED - Modify this code cell so that it trains a default svm using \n",
    "# the training data and evaluates the accuracy on the test data\n",
    "\n",
    "mdl2=svm.SVC()\n",
    "\n",
    "mdl2.fit(X_train,y_train)\n",
    "\n",
    "# prediction\n",
    "y_pred=mdl2.predict(X_test)\n",
    "\n",
    "# Insert code here\n",
    ""
   ]
  },
  {
   "cell_type": "code",
   "execution_count": null,
   "metadata": {},
   "outputs": [],
   "source": [
    "\n",
    "# Based on your reading of the book and tutorials, it is not reasonable to assume\n",
    "# that the default SVM is the best.  \n",
    "#\n",
    "# What are the key things we should explore in looking for a \"good\" SVM\n",
    "\n",
    "# Your answer here\n",
    "\n",
    ""
   ]
  },
  {
   "cell_type": "code",
   "execution_count": null,
   "metadata": {},
   "outputs": [],
   "source": [
    "\n",
    "# ACTION REQUIRED - Modify this code cell so that it trains an svm \n",
    "#  using a linear kernel but with default values for all other hyperparameter \n",
    "# the training data and evaluates the accuracy on the test data\n",
    "\n",
    "# Insert code lines below\n",
    "\n",
    "\n",
    "\n",
    "\n",
    "\n",
    "\n",
    "\n",
    "\n",
    ""
   ]
  },
  {
   "cell_type": "code",
   "execution_count": null,
   "metadata": {},
   "outputs": [],
   "source": [
    "\n",
    "# You can also build with a polynomial kernel.  I think you will find it \n",
    "# significantly slower.  \n",
    "\n",
    "# ACTION Uncomment the code below and run it.\n",
    "\n",
    "# =============================================================================\n",
    "# mdl4=svm.SVC(kernel='poly')\n",
    "# mdl4.fit(X_train,y_train)\n",
    "# \n",
    "# # prediction\n",
    "# y_pred=mdl4.predict(X_test)\n",
    "# \n",
    "# print(\"Default Linear SVM Accuracy:\",metrics.accuracy_score(y_test, y_pred))\n",
    "# =============================================================================\n",
    ""
   ]
  },
  {
   "cell_type": "code",
   "execution_count": null,
   "metadata": {},
   "outputs": [],
   "source": [
    "\n",
    "# We are using the raw input values from the provided data.  The book notes that\n",
    "# as part of feature engineering, we may consider scaling of the variables.\n",
    "\n",
    "# Do a web search to see if it is important or not to scale variables when using SVM?\n",
    "\n",
    "# COMMENT HERE as to whether you think we need to scale?\n",
    "\n",
    ""
   ]
  },
  {
   "cell_type": "code",
   "execution_count": null,
   "metadata": {},
   "outputs": [],
   "source": [
    "from sklearn.preprocessing import StandardScaler\n",
    "\n",
    "scaler=StandardScaler() # instance\n",
    "scaler.fit(X_train) # fit the scaler to the test data\n",
    "\n",
    "# scale both training and test data using the SAME SCALER\n",
    "X_train_sc=scaler.transform(X_train)\n",
    "X_test_sc=scaler.transform(X_test)\n",
    "\n",
    "# train and test a linear SVM on scaled data (using default hyperparameters)\n",
    "mdl5=svm.SVC(kernel='linear')\n",
    "mdl5.fit(X_train_sc,y_train)\n",
    "\n",
    "# prediction\n",
    "y_pred=mdl5.predict(X_test_sc)\n",
    "\n",
    "print(\"Scaled Linear SVM Accuracy:\",metrics.accuracy_score(y_test, y_pred))\n",
    ""
   ]
  },
  {
   "cell_type": "code",
   "execution_count": null,
   "metadata": {},
   "outputs": [],
   "source": [
    "\n",
    "# Did scaling make a difference?\n",
    "\n",
    "# Your answer here\n",
    "\n",
    ""
   ]
  },
  {
   "cell_type": "code",
   "execution_count": null,
   "metadata": {},
   "outputs": [],
   "source": [
    "print(\"Scaled Linear SVM Accuracy:\",metrics.accuracy_score(y_test, y_pred))\n",
    "print(\"Precision:\",metrics.precision_score(y_test, y_pred,pos_label=2))\n",
    "print(\"Recall:\",metrics.recall_score(y_test, y_pred,pos_label=2))\n",
    "metrics.confusion_matrix(y_test,y_pred)\n",
    ""
   ]
  },
  {
   "cell_type": "code",
   "execution_count": null,
   "metadata": {},
   "outputs": [],
   "source": [
    "\n",
    "# Why did I have to set  \"pos_label=2\" for the Precision and Recall?  \n",
    "# I didn't have to do that in last week's exercise.\n",
    "\n",
    "# Insert your answer here.\n",
    ""
   ]
  },
  {
   "cell_type": "code",
   "execution_count": null,
   "metadata": {},
   "outputs": [],
   "source": [
    "\n",
    "# Sometime `accuracy' might be too simple of a measure for us to evaluate \n",
    "# and tune performance\n",
    "\n",
    "# Briefly describe the measures computed in the above cell.\n",
    "\n",
    "# Insert your response here.\n",
    "\n",
    ""
   ]
  },
  {
   "cell_type": "code",
   "execution_count": null,
   "metadata": {},
   "outputs": [],
   "source": [
    "\n",
    "# QUESTION - What is the default value for C?\n",
    "\n",
    "# Insert your answer here.\n",
    ""
   ]
  },
  {
   "cell_type": "code",
   "execution_count": null,
   "metadata": {},
   "outputs": [],
   "source": [
    "\n",
    "# Play around with the value for C and see if you can find a good value \n",
    "# that work for this data using linear kernel\n",
    "\n",
    "mdl5=svm.SVC(kernel='linear',C=1)  # manipulate this line\n",
    "\n",
    "# Insert code lines here that will fit, then predict, then evaluate\n",
    "# use the scaled data\n",
    "\n",
    "#fit\n",
    "\n",
    "# prediction\n",
    "\n",
    "\n",
    "# evaluate\n",
    "\n",
    ""
   ]
  },
  {
   "cell_type": "code",
   "execution_count": null,
   "metadata": {},
   "outputs": [],
   "source": [
    "\n",
    "# Do the sam experimentation as above, but with the `rbf` kernel\n",
    "mdl5=svm.SVC(kernel='rbf',C=1)\n",
    "\n",
    "# Insert code lines here that will fit, then predict, then evaluate\n",
    "# use the scaled data\n",
    "\n",
    "#fit\n",
    "\n",
    "# prediction\n",
    "\n",
    "\n",
    "# evaluate\n",
    "\n",
    ""
   ]
  },
  {
   "cell_type": "code",
   "execution_count": null,
   "metadata": {},
   "outputs": [],
   "source": [
    "\n",
    "# NOTE - because we are using the scaled data, you will find that poly is no longer slow\n",
    "\n",
    "# Do the sam experimentation as above, but with the `rbf` kernel\n",
    "mdl5=svm.SVC(kernel='poly',C=1)\n",
    "\n",
    "# Insert code lines here that will fit, then predict, then evaluate\n",
    "# use the scaled data\n",
    "\n",
    "#fit\n",
    "\n",
    "# prediction\n",
    "\n",
    "\n",
    "# evaluate\n",
    "\n",
    ""
   ]
  },
  {
   "cell_type": "code",
   "execution_count": null,
   "metadata": {},
   "outputs": [],
   "source": [
    "\n",
    "# Experiment to find a good value for gamma.   \n",
    "# Choose an appropriate value for C for this experiment\n",
    "\n",
    "mdl5=svm.SVC(kernel='rbf',C=1, gamma=1)\n",
    "\n",
    "# Insert code lines here that will fit, then predict, then evaluate\n",
    "# use the scaled data\n",
    "\n",
    "#fit\n",
    "\n",
    "# prediction\n",
    "\n",
    "\n",
    "# evaluate\n",
    "\n",
    ""
   ]
  },
  {
   "cell_type": "code",
   "execution_count": null,
   "metadata": {},
   "outputs": [],
   "source": [
    "\n",
    "# Here we will use a bit of a cheat.  \n",
    "# Rather than us exploring to select a subset of features (as we have not yet\n",
    "# really developed that methodology)\n",
    "# Let's borrow from the paper reference on the UCI site.\n",
    "# Go to the UCI page that talks about this dataset and follow the link to the\n",
    "# paper written by Patricio\n",
    "# https://bmccancer.biomedcentral.com/articles/10.1186/s12885-017-3877-1\n",
    "\n",
    "# What are the variables it suggests are \n",
    "\n",
    "# Insert your answer here\n",
    "\n",
    "\n",
    ""
   ]
  },
  {
   "cell_type": "code",
   "execution_count": null,
   "metadata": {},
   "outputs": [],
   "source": [
    "\n",
    "X_train2=X_train_sc[:,[0,1,2,7]]\n",
    "X_test2=X_test_sc[:,[0,1,2,7]]\n",
    "\n",
    "# RESPOND - \n",
    "\n",
    "# Explain why the subsetting command is consistent with the suggestion from the paper\n",
    ""
   ]
  },
  {
   "cell_type": "code",
   "execution_count": null,
   "metadata": {},
   "outputs": [],
   "source": [
    "\n",
    "# Using the subsetted variables, experiment to find good values for\n",
    "# kernel, C, and gamma\n",
    "\n",
    "# EXPERIMENT\n",
    "mdl5=svm.SVC(kernel='rbf',C=1, gamma=.1)\n",
    "\n",
    "mdl5.fit(X_train2,y_train)\n",
    "\n",
    "# prediction\n",
    "y_pred=mdl5.predict(X_test2)\n",
    "\n",
    "print(\"Scaled Linear SVM Accuracy:\",metrics.accuracy_score(y_test, y_pred))\n",
    "print(\"Precision:\",metrics.precision_score(y_test, y_pred,pos_label=2))\n",
    "print(\"Recall:\",metrics.recall_score(y_test, y_pred,pos_label=2))\n",
    "metrics.confusion_matrix(y_test,y_pred)\n",
    "\n",
    ""
   ]
  },
  {
   "cell_type": "code",
   "execution_count": null,
   "metadata": {},
   "outputs": [],
   "source": [
    "\n",
    "# Write a comment about what you have learned.  \n",
    ""
   ]
  }
 ],
 "nbformat": 4,
 "nbformat_minor": 2,
 "metadata": {
  "language_info": {
   "codemirror_mode": {
    "name": "ipython",
    "version": 3
   },
   "file_extension": ".py",
   "mimetype": "text/x-python",
   "name": "python",
   "nbconvert_exporter": "python",
   "pygments_lexer": "ipython3",
   "version": 3
  },
  "orig_nbformat": 4
 }
}