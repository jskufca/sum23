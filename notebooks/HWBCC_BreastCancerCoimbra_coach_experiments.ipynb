{
 "cells": [
  {
   "attachments": {},
   "cell_type": "markdown",
   "metadata": {},
   "source": [
    "# Why we scale for SVM: coach's demo with HWBCC dataset\n",
    "\n",
    "I wanted to show you (with real data) how pooly scaled data (or well scaled data) can impact SVM.   In particular, I will use this data to show you that a \"large scale\" variable can completely dominate the SVM analysis.   \n",
    "\n",
    ">NOTE: Other classifiers that use \"distance between points\" will also be impacted by scaling choices (or - choosing not to scale)."
   ]
  },
  {
   "attachments": {},
   "cell_type": "markdown",
   "metadata": {},
   "source": [
    "## Loading modules and data\n",
    "\n",
    "I follow basically the same steps that we used to start the HW1 on the HWBCC dataset.  \n",
    "\n",
    "We load relevent modules, along with the data."
   ]
  },
  {
   "cell_type": "code",
   "execution_count": 2,
   "metadata": {},
   "outputs": [],
   "source": [
    "# Module loads\n",
    "\n",
    "import pandas as pd\n",
    "import numpy as np\n",
    "# use seaborn plotting defaults\n",
    "import matplotlib.pyplot as plt\n",
    "import seaborn as sns; sns.set()\n",
    "\n",
    "# scikit learn functions\n",
    "from sklearn import svm\n",
    "from sklearn import metrics\n",
    "from sklearn.model_selection import train_test_split\n",
    "from sklearn.preprocessing import StandardScaler\n",
    "\n",
    "# Basic parameter choices for grid search.\n",
    "from sklearn.model_selection import GridSearchCV"
   ]
  },
  {
   "attachments": {},
   "cell_type": "markdown",
   "metadata": {},
   "source": [
    "### Read and parse the data \n",
    "\n",
    "* Create both `X` (predictors) and `y` (response).\n",
    "* Split data into training and test sets."
   ]
  },
  {
   "cell_type": "code",
   "execution_count": 3,
   "metadata": {},
   "outputs": [],
   "source": [
    "# specify random_state to allow reproducibility\n",
    "\n",
    "bcc = pd.read_csv(\"../data/dataR2.csv\")\n",
    "\n",
    "#%% Identify features\n",
    "\n",
    "# We separate the date into the predictor variables and the response\n",
    "X=bcc.loc[:,'Age':'MCP.1']\n",
    "y=bcc.Classification\n",
    "\n",
    "X_train,X_test,y_train,y_test=train_test_split(\n",
    "        X,y,test_size=0.25,random_state=23) "
   ]
  },
  {
   "attachments": {},
   "cell_type": "markdown",
   "metadata": {},
   "source": [
    "## Some unimport play with pandas dataframes\n",
    "\n",
    "Just trying to illustrate a few pandas related ideas."
   ]
  },
  {
   "cell_type": "code",
   "execution_count": 10,
   "metadata": {},
   "outputs": [],
   "source": [
    "a=bcc.Age\n",
    "b=bcc[['Age']]\n",
    "c=bcc['Age']\n",
    "want='Age'\n",
    "\n",
    "f=bcc[want]"
   ]
  },
  {
   "cell_type": "code",
   "execution_count": 18,
   "metadata": {},
   "outputs": [],
   "source": [
    "g=bcc.T\n",
    "bcc.shape\n",
    "bcc.size\n",
    "h=bcc.copy()\n",
    "h.Age=5\n",
    "h.BMI=c+10\n"
   ]
  },
  {
   "attachments": {},
   "cell_type": "markdown",
   "metadata": {},
   "source": [
    "# Comparing some models\n",
    "\n",
    "We will use cross-validation to tune the models before applying to the test set."
   ]
  },
  {
   "cell_type": "code",
   "execution_count": 129,
   "metadata": {},
   "outputs": [],
   "source": [
    "# A helper function\n",
    "rng=np.random.default_rng(12345)\n",
    "xvals = .7*rng.random(29)+X_test.Age-.35\n",
    "def myplot(y_pred):\n",
    "    plt.rcParams['figure.figsize'] = [10, 1.6]\n",
    "    plt.style.use('bmh')\n",
    "    plt.scatter(xvals,y_test)\n",
    "    plt.scatter(xvals,y_pred,marker='x',s=50,linewidth=1)\n",
    "    plt.show()"
   ]
  },
  {
   "attachments": {},
   "cell_type": "markdown",
   "metadata": {},
   "source": [
    "### Unscaled\n",
    "\n",
    "(I start with `mdl5`, mirroring the HW, but it is the first model in this demo).\n",
    "\n",
    "We use unscaled data, performing a small grid search to choose a good set of parmeters."
   ]
  },
  {
   "cell_type": "code",
   "execution_count": 105,
   "metadata": {},
   "outputs": [
    {
     "name": "stdout",
     "output_type": "stream",
     "text": [
      "{'C': 1, 'gamma': 0.003}\n",
      "0.5973856209150328\n",
      "Unscaled SVM Accuracy: 0.6206896551724138\n"
     ]
    }
   ],
   "source": [
    "param_grid = {'C': [0.1,.3, 1,3, 10, 30], 'gamma': [1,.3,0.1,.03,0.01,.003,0.001]}\n",
    "mdl5= GridSearchCV(svm.SVC(),param_grid,refit=True,cv=5)\n",
    "\n",
    "mdl5.fit(X_train,y_train)\n",
    "\n",
    "print(mdl5.best_params_)\n",
    "print(mdl5.best_score_)\n",
    "\n",
    "\n",
    "# prediction\n",
    "y_pred5=mdl5.predict(X_test)\n",
    "\n",
    "print(\"Unscaled SVM Accuracy:\",metrics.accuracy_score(y_test, y_pred5))\n",
    "\n"
   ]
  },
  {
   "cell_type": "code",
   "execution_count": 130,
   "metadata": {},
   "outputs": [
    {
     "data": {
      "image/png": "[encoded data removed]",
      "text/plain": [
       "<Figure size 1000x160 with 1 Axes>"
      ]
     },
     "metadata": {},
     "output_type": "display_data"
    }
   ],
   "source": [
    "myplot(y_pred5)"
   ]
  },
  {
   "attachments": {},
   "cell_type": "markdown",
   "metadata": {},
   "source": [
    "Most of the errors are predicting \"2\" instead of \"1\".   Class \"2\" is the dominant class (at 59% of the test set)."
   ]
  },
  {
   "attachments": {},
   "cell_type": "markdown",
   "metadata": {},
   "source": [
    "### With scaling\n",
    "\n",
    "We first create scaled data"
   ]
  },
  {
   "cell_type": "code",
   "execution_count": 8,
   "metadata": {},
   "outputs": [],
   "source": [
    "scaler_pd = StandardScaler().set_output(transform=\"pandas\")\n",
    "\n",
    "scaler_pd.fit(X_train) # fit the scaler to the test data\n",
    "\n",
    "# scale both training and test data using the SAME SCALER\n",
    "X_train_sc=scaler_pd.transform(X_train)\n",
    "X_test_sc=scaler_pd.transform(X_test)\n"
   ]
  },
  {
   "cell_type": "code",
   "execution_count": 137,
   "metadata": {},
   "outputs": [
    {
     "name": "stdout",
     "output_type": "stream",
     "text": [
      "0.8392156862745098\n",
      "{'C': 40, 'gamma': 0.01}\n",
      "Unscaled SVM Accuracy: 0.6896551724137931\n"
     ]
    }
   ],
   "source": [
    "param_grid = {'C': [  8,10,20, 40,60,100], 'gamma': [1,.3,0.1,.03,0.01,.003,0.001]}\n",
    "mdl6= GridSearchCV(svm.SVC(),param_grid,refit=True,cv=5)\n",
    "\n",
    "mdl6.fit(X_train_sc,y_train)\n",
    "print(mdl6.best_score_)\n",
    "print(mdl6.best_params_)\n",
    "\n",
    "# prediction\n",
    "y_pred6=mdl6.predict(X_test_sc)\n",
    "\n",
    "print(\"Unscaled SVM Accuracy:\",metrics.accuracy_score(y_test, y_pred))"
   ]
  },
  {
   "cell_type": "code",
   "execution_count": 138,
   "metadata": {},
   "outputs": [
    {
     "data": {
      "image/png": "[encoded data removed]",
      "text/plain": [
       "<Figure size 1000x160 with 1 Axes>"
      ]
     },
     "metadata": {},
     "output_type": "display_data"
    }
   ],
   "source": [
    "myplot(y_pred6)"
   ]
  },
  {
   "attachments": {},
   "cell_type": "markdown",
   "metadata": {},
   "source": [
    "The scaled data seems to provide a more balanced result between false positives and false negatives."
   ]
  },
  {
   "attachments": {},
   "cell_type": "markdown",
   "metadata": {},
   "source": [
    "### Poorly scaled data (converting `age` to seconds)"
   ]
  },
  {
   "cell_type": "code",
   "execution_count": 140,
   "metadata": {},
   "outputs": [],
   "source": [
    "X_train_p=X_train.assign(Age=X_train.Age*365*24*3600)\n",
    "X_test_p=X_test.assign(Age=X_test.Age*365*24*3600)"
   ]
  },
  {
   "attachments": {},
   "cell_type": "markdown",
   "metadata": {},
   "source": [
    "I am using a polynomial kernel based on some previous experimentation.  We could have gotten there (perhaps) by grid search."
   ]
  },
  {
   "cell_type": "code",
   "execution_count": 142,
   "metadata": {},
   "outputs": [
    {
     "name": "stdout",
     "output_type": "stream",
     "text": [
      "0.5862745098039215\n",
      "{'C': 0.1}\n",
      "Poorly scaled SVM Accuracy: 0.6551724137931034\n"
     ]
    }
   ],
   "source": [
    "param_grid = {'C': [.01, 0.1,1,10]}\n",
    "\n",
    "mdl7= GridSearchCV(svm.SVC(kernel='poly',degree=3),param_grid,refit=True,cv=5)\n",
    "\n",
    "mdl7.fit(X_train_p,y_train)\n",
    "print(mdl7.best_score_)\n",
    "print(mdl7.best_params_)\n",
    "\n",
    "# prediction\n",
    "y_pred7=mdl7.predict(X_test_p)\n",
    "\n",
    "print(\"Poorly scaled SVM Accuracy:\",metrics.accuracy_score(y_test, y_pred7))"
   ]
  },
  {
   "cell_type": "code",
   "execution_count": 147,
   "metadata": {},
   "outputs": [
    {
     "data": {
      "image/png": "[encoded data removed]",
      "text/plain": [
       "<Figure size 1000x160 with 1 Axes>"
      ]
     },
     "metadata": {},
     "output_type": "display_data"
    }
   ],
   "source": [
    "myplot(y_pred7)"
   ]
  },
  {
   "attachments": {},
   "cell_type": "markdown",
   "metadata": {},
   "source": [
    "NOTE: Predictions vs \"Age\":   Everything below some age break (~74) is classified as \"2\"."
   ]
  },
  {
   "attachments": {},
   "cell_type": "markdown",
   "metadata": {},
   "source": [
    "### Predicting using just age\n",
    "\n",
    "We create a new dataset by eliminating everything but the `age` variable (from original data), and repeat. We train a classifier on that single variable.    \n",
    "\n",
    "So - we are predicting using only a single predictor variable (\"Age\")\n"
   ]
  },
  {
   "cell_type": "code",
   "execution_count": 148,
   "metadata": {},
   "outputs": [],
   "source": [
    "X_train_a=X_train[['Age']]\n",
    "X_test_a=X_test[['Age']]"
   ]
  },
  {
   "cell_type": "code",
   "execution_count": 155,
   "metadata": {},
   "outputs": [
    {
     "name": "stdout",
     "output_type": "stream",
     "text": [
      "0.5633986928104575\n",
      "{'C': 1000}\n",
      "Unscaled SVM Accuracy: 0.5862068965517241\n"
     ]
    }
   ],
   "source": [
    "param_grid = {'C': [1,10,100,500,1000,5000]}\n",
    "mdl8= GridSearchCV(svm.SVC(kernel='poly',degree=2),param_grid,refit=True,cv=5)\n",
    "\n",
    "mdl8.fit(X_train_a,y_train)\n",
    "print(mdl8.best_score_)\n",
    "print(mdl8.best_params_)\n",
    "\n",
    "# prediction\n",
    "y_pred8=mdl8.predict(X_test_a)\n",
    "\n",
    "print(\"Unscaled SVM Accuracy:\",metrics.accuracy_score(y_test, y_pred8))\n"
   ]
  },
  {
   "cell_type": "code",
   "execution_count": 156,
   "metadata": {},
   "outputs": [
    {
     "data": {
      "image/png": "[encoded data removed]",
      "text/plain": [
       "<Figure size 1000x160 with 1 Axes>"
      ]
     },
     "metadata": {},
     "output_type": "display_data"
    }
   ],
   "source": [
    "myplot(y_pred8)"
   ]
  },
  {
   "cell_type": "code",
   "execution_count": 157,
   "metadata": {},
   "outputs": [
    {
     "name": "stdout",
     "output_type": "stream",
     "text": [
      "[2 2 2 2 2 2 2 1 1 2 2 2 2 2 2 2 2 2 2 2 2 2 2 2 1 2 2 2 2]\n",
      "[2 2 1 2 2 1 1 1 1 1 2 2 1 2 2 1 2 2 2 2 2 2 2 1 2 1 1 1 2]\n",
      "[2 2 2 1 2 1 2 1 2 2 2 2 2 2 2 2 2 1 2 1 2 2 2 2 1 2 2 2 2]\n",
      "[2 2 2 1 2 1 2 1 2 2 2 2 2 1 2 2 2 1 2 1 2 2 2 1 1 1 2 2 1]\n"
     ]
    }
   ],
   "source": [
    "print(y_pred5)\n",
    "print(y_pred6)\n",
    "print(y_pred7)\n",
    "print(y_pred8)\n",
    "\n"
   ]
  },
  {
   "cell_type": "code",
   "execution_count": 54,
   "metadata": {},
   "outputs": [
    {
     "name": "stdout",
     "output_type": "stream",
     "text": [
      "[40 49 36 85 49 78 36 75 66 54 34 44 35 69 43 62 65 76 45 86 48 45 66 73\n",
      " 75 68 46 35 68]\n",
      "[2 2 2 1 2 1 2 1 2 2 2 2 2 1 2 2 2 1 2 1 2 2 2 1 1 1 2 2 1]\n",
      "[2 2 2 1 2 1 2 1 2 2 2 2 2 1 2 2 2 1 2 1 2 2 2 1 1 1 2 2 1]\n"
     ]
    }
   ],
   "source": [
    "print(X_test['Age'].to_numpy())\n",
    "print((X_test['Age'].to_numpy()<67)+1)\n",
    "print(y_pred8)\n",
    "\n",
    "\n"
   ]
  },
  {
   "cell_type": "code",
   "execution_count": 60,
   "metadata": {},
   "outputs": [
    {
     "name": "stdout",
     "output_type": "stream",
     "text": [
      "[40 49 36 85 49 78 36 75 66 54 34 44 35 69 43 62 65 76 45 86 48 45 66 73\n",
      " 75 68 46 35 68]\n",
      "[2 2 2 1 2 1 2 1 2 2 2 2 2 2 2 2 2 1 2 1 2 2 2 2 1 2 2 2 2]\n",
      "[2 2 2 1 2 1 2 1 2 2 2 2 2 2 2 2 2 1 2 1 2 2 2 2 1 2 2 2 2]\n"
     ]
    }
   ],
   "source": [
    "print(X_test['Age'].to_numpy())\n",
    "print((X_test['Age'].to_numpy()<73.5)+1)\n",
    "print(y_pred7)"
   ]
  },
  {
   "attachments": {},
   "cell_type": "markdown",
   "metadata": {},
   "source": [
    "### Poorly scaled, with RBF"
   ]
  },
  {
   "cell_type": "code",
   "execution_count": 73,
   "metadata": {},
   "outputs": [
    {
     "name": "stdout",
     "output_type": "stream",
     "text": [
      "0.5398692810457516\n",
      "{'C': 1e-07, 'gamma': 100}\n",
      "Poorly scaled SVM Accuracy: 0.5862068965517241\n"
     ]
    }
   ],
   "source": [
    "param_grid = {'C': [.0000001,.000001, .00001,.001,.1,1,10,100,1000], 'gamma': [100,10,1,0,.01,0.001,.0001]}\n",
    "mdl9= GridSearchCV(svm.SVC(),param_grid,refit=True,cv=5)\n",
    "\n",
    "mdl9.fit(X_train_p,y_train)\n",
    "print(mdl9.best_score_)\n",
    "print(mdl9.best_params_)\n",
    "\n",
    "# prediction\n",
    "y_pred9=mdl9.predict(X_test_p)\n",
    "\n",
    "print(\"Poorly scaled SVM Accuracy:\",metrics.accuracy_score(y_test, y_pred7))"
   ]
  },
  {
   "attachments": {},
   "cell_type": "markdown",
   "metadata": {},
   "source": [
    "Note that grid search yields an accuracy of 58.6%, which is simply assigning the majority class\n",
    "It is difficult to find an RBF kernel solution that does anything other than assign the majority class."
   ]
  },
  {
   "cell_type": "code",
   "execution_count": 74,
   "metadata": {},
   "outputs": [
    {
     "name": "stdout",
     "output_type": "stream",
     "text": [
      "[40 49 36 85 49 78 36 75 66 54 34 44 35 69 43 62 65 76 45 86 48 45 66 73\n",
      " 75 68 46 35 68]\n",
      "[2 2 2 2 2 2 2 2 2 2 2 2 2 2 2 2 2 2 2 2 2 2 2 2 2 2 2 2 2]\n",
      "[2 2 2 2 2 2 2 2 2 2 2 2 2 2 2 2 2 2 2 2 2 2 2 2 2 2 2 2 2]\n"
     ]
    }
   ],
   "source": [
    "print(X_test['Age'].to_numpy())\n",
    "print((X_test['Age'].to_numpy()<90)+1)\n",
    "print(y_pred9)"
   ]
  }
 ],
 "metadata": {
  "kernelspec": {
   "display_name": "Python 3",
   "language": "python",
   "name": "python3"
  },
  "language_info": {
   "codemirror_mode": {
    "name": "ipython",
    "version": 3
   },
   "file_extension": ".py",
   "mimetype": "text/x-python",
   "name": "python",
   "nbconvert_exporter": "python",
   "pygments_lexer": "ipython3",
   "version": "3.11.3"
  },
  "orig_nbformat": 4
 },
 "nbformat": 4,
 "nbformat_minor": 2
}
